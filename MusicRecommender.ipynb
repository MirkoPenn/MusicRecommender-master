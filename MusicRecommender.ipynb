{
 "cells": [
  {
   "cell_type": "code",
   "execution_count": 1,
   "metadata": {},
   "outputs": [],
   "source": [
    "import warnings\n",
    "warnings.filterwarnings(action='ignore')"
   ]
  },
  {
   "cell_type": "code",
   "execution_count": 2,
   "metadata": {
    "scrolled": false
   },
   "outputs": [
    {
     "name": "stderr",
     "output_type": "stream",
     "text": [
      "Using TensorFlow backend.\n",
      "Using cuDNN version 7601 on context None\n",
      "Mapped name None to device cuda: GeForce RTX 2070 (0000:01:00.0)\n",
      "Using Theano backend.\n"
     ]
    },
    {
     "name": "stdout",
     "output_type": "stream",
     "text": [
      "Preprocessing is completed.\n",
      "\n",
      "Loading Data...\n",
      "Training data points: 211475\n",
      "Validation data points: 26434\n",
      "Test data points for: 26435 \n",
      "\n",
      "Building Network...\n",
      "__________________________________________________________________________________________________\n",
      "Layer (type)                    Output Shape         Param #     Connected to                     \n",
      "==================================================================================================\n",
      "input_1 (InputLayer)            (None, 10000)        0                                            \n",
      "__________________________________________________________________________________________________\n",
      "dropout_1 (Dropout)             (None, 10000)        0           input_1[0][0]                    \n",
      "__________________________________________________________________________________________________\n",
      "dense_1 (Dense)                 (None, 512)          5120512     dropout_1[0][0]                  \n",
      "__________________________________________________________________________________________________\n",
      "dropout_2 (Dropout)             (None, 512)          0           dense_1[0][0]                    \n",
      "__________________________________________________________________________________________________\n",
      "dense_2 (Dense)                 (None, 512)          262656      dropout_2[0][0]                  \n",
      "__________________________________________________________________________________________________\n",
      "dropout_3 (Dropout)             (None, 512)          0           dense_2[0][0]                    \n",
      "__________________________________________________________________________________________________\n",
      "input_2 (InputLayer)            (None, 4096)         0                                            \n",
      "__________________________________________________________________________________________________\n",
      "lambda_1 (Lambda)               (None, 512)          0           dropout_3[0][0]                  \n",
      "__________________________________________________________________________________________________\n",
      "lambda_2 (Lambda)               (None, 4096)         0           input_2[0][0]                    \n",
      "__________________________________________________________________________________________________\n",
      "concatenate_1 (Concatenate)     (None, 4608)         0           lambda_1[0][0]                   \n",
      "                                                                 lambda_2[0][0]                   \n",
      "__________________________________________________________________________________________________\n",
      "dropout_4 (Dropout)             (None, 4608)         0           concatenate_1[0][0]              \n",
      "__________________________________________________________________________________________________\n",
      "dense_3 (Dense)                 (None, 512)          2359808     dropout_4[0][0]                  \n",
      "__________________________________________________________________________________________________\n",
      "dense_4 (Dense)                 (None, 200)          102600      dense_3[0][0]                    \n",
      "__________________________________________________________________________________________________\n",
      "lambda_3 (Lambda)               (None, 200)          0           dense_4[0][0]                    \n",
      "==================================================================================================\n",
      "Total params: 7,845,576\n",
      "Trainable params: 7,845,576\n",
      "Non-trainable params: 0\n",
      "__________________________________________________________________________________________________\n",
      "None\n",
      "\n",
      "Training...\n",
      "Train on 211475 samples, validate on 26434 samples\n",
      "Epoch 1/100\n",
      "211475/211475 [==============================] - 44s 207us/step - loss: 0.3760 - mean_squared_error: 0.0075 - val_loss: 0.3674 - val_mean_squared_error: 0.0073\n",
      "Epoch 2/100\n",
      "211475/211475 [==============================] - 44s 206us/step - loss: 0.3553 - mean_squared_error: 0.0071 - val_loss: 0.3642 - val_mean_squared_error: 0.0073\n",
      "Epoch 3/100\n",
      "211475/211475 [==============================] - 44s 206us/step - loss: 0.3474 - mean_squared_error: 0.0069 - val_loss: 0.3630 - val_mean_squared_error: 0.0072\n",
      "Epoch 4/100\n",
      "211475/211475 [==============================] - 44s 208us/step - loss: 0.3426 - mean_squared_error: 0.0068 - val_loss: 0.3626 - val_mean_squared_error: 0.0072\n",
      "Epoch 5/100\n",
      "211475/211475 [==============================] - 44s 207us/step - loss: 0.3391 - mean_squared_error: 0.0068 - val_loss: 0.3625 - val_mean_squared_error: 0.0072\n",
      "Epoch 6/100\n",
      "211475/211475 [==============================] - 44s 207us/step - loss: 0.3364 - mean_squared_error: 0.0067 - val_loss: 0.3624 - val_mean_squared_error: 0.0072\n",
      "Epoch 7/100\n",
      "211475/211475 [==============================] - 44s 209us/step - loss: 0.3341 - mean_squared_error: 0.0067 - val_loss: 0.3627 - val_mean_squared_error: 0.0072\n",
      "Epoch 8/100\n",
      "211475/211475 [==============================] - 44s 207us/step - loss: 0.3323 - mean_squared_error: 0.0066 - val_loss: 0.3632 - val_mean_squared_error: 0.0072\n",
      "Epoch 9/100\n",
      "211475/211475 [==============================] - 43s 205us/step - loss: 0.3307 - mean_squared_error: 0.0066 - val_loss: 0.3634 - val_mean_squared_error: 0.0073\n",
      "Epoch 10/100\n",
      "211475/211475 [==============================] - 43s 205us/step - loss: 0.3295 - mean_squared_error: 0.0066 - val_loss: 0.3637 - val_mean_squared_error: 0.0073\n",
      "Epoch 11/100\n",
      "211475/211475 [==============================] - 44s 206us/step - loss: 0.3283 - mean_squared_error: 0.0065 - val_loss: 0.3634 - val_mean_squared_error: 0.0073\n",
      "\n",
      "Saving trained model model_2 in models/trained_models.tsv...\n",
      "\n",
      "Predicting for split test data...\n",
      "R2 avg:  -0.4694775476241675\n",
      "\n",
      "Predicting for whole test data...\n",
      "Test data points for: 64477\n",
      "Prediction is completed.\n",
      "\n",
      "Evaluating...\n",
      "MAP@500: 0.00309\n"
     ]
    }
   ],
   "source": [
    "from MusicRecommender import MusicRecommender\n",
    "\n",
    "mr = MusicRecommender()\n",
    "mr.recommend()"
   ]
  }
 ],
 "metadata": {
  "kernelspec": {
   "display_name": "Python 3",
   "language": "python",
   "name": "python3"
  },
  "language_info": {
   "codemirror_mode": {
    "name": "ipython",
    "version": 3
   },
   "file_extension": ".py",
   "mimetype": "text/x-python",
   "name": "python",
   "nbconvert_exporter": "python",
   "pygments_lexer": "ipython3",
   "version": "3.7.3"
  }
 },
 "nbformat": 4,
 "nbformat_minor": 2
}
